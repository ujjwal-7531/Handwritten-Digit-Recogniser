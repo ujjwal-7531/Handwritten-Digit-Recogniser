{
 "cells": [
  {
   "cell_type": "code",
   "execution_count": 1,
   "id": "b96b93cc-0292-47e1-a911-e9a6872dd514",
   "metadata": {},
   "outputs": [],
   "source": [
    "import pandas as pd\n",
    "import numpy as np\n",
    "import matplotlib.pyplot as plt\n",
    "from sklearn.neighbors import KNeighborsClassifier\n",
    "from sklearn.model_selection import train_test_split\n",
    "from sklearn.metrics import accuracy_score\n",
    "from sklearn.preprocessing import StandardScaler\n",
    "from sklearn.decomposition import PCA\n",
    "import plotly.express as px"
   ]
  },
  {
   "cell_type": "code",
   "execution_count": 2,
   "id": "cf2d68e6-f75a-4ae6-a67f-ec6e8ea763df",
   "metadata": {},
   "outputs": [],
   "source": [
    "data = pd.read_csv('train.csv')"
   ]
  },
  {
   "cell_type": "code",
   "execution_count": 3,
   "id": "9c5c9abd-0c09-42ef-b27b-e8f73bbee9a8",
   "metadata": {},
   "outputs": [
    {
     "data": {
      "text/html": [
       "<div>\n",
       "<style scoped>\n",
       "    .dataframe tbody tr th:only-of-type {\n",
       "        vertical-align: middle;\n",
       "    }\n",
       "\n",
       "    .dataframe tbody tr th {\n",
       "        vertical-align: top;\n",
       "    }\n",
       "\n",
       "    .dataframe thead th {\n",
       "        text-align: right;\n",
       "    }\n",
       "</style>\n",
       "<table border=\"1\" class=\"dataframe\">\n",
       "  <thead>\n",
       "    <tr style=\"text-align: right;\">\n",
       "      <th></th>\n",
       "      <th>label</th>\n",
       "      <th>pixel0</th>\n",
       "      <th>pixel1</th>\n",
       "      <th>pixel2</th>\n",
       "      <th>pixel3</th>\n",
       "      <th>pixel4</th>\n",
       "      <th>pixel5</th>\n",
       "      <th>pixel6</th>\n",
       "      <th>pixel7</th>\n",
       "      <th>pixel8</th>\n",
       "      <th>...</th>\n",
       "      <th>pixel774</th>\n",
       "      <th>pixel775</th>\n",
       "      <th>pixel776</th>\n",
       "      <th>pixel777</th>\n",
       "      <th>pixel778</th>\n",
       "      <th>pixel779</th>\n",
       "      <th>pixel780</th>\n",
       "      <th>pixel781</th>\n",
       "      <th>pixel782</th>\n",
       "      <th>pixel783</th>\n",
       "    </tr>\n",
       "  </thead>\n",
       "  <tbody>\n",
       "    <tr>\n",
       "      <th>37920</th>\n",
       "      <td>5</td>\n",
       "      <td>0</td>\n",
       "      <td>0</td>\n",
       "      <td>0</td>\n",
       "      <td>0</td>\n",
       "      <td>0</td>\n",
       "      <td>0</td>\n",
       "      <td>0</td>\n",
       "      <td>0</td>\n",
       "      <td>0</td>\n",
       "      <td>...</td>\n",
       "      <td>0</td>\n",
       "      <td>0</td>\n",
       "      <td>0</td>\n",
       "      <td>0</td>\n",
       "      <td>0</td>\n",
       "      <td>0</td>\n",
       "      <td>0</td>\n",
       "      <td>0</td>\n",
       "      <td>0</td>\n",
       "      <td>0</td>\n",
       "    </tr>\n",
       "    <tr>\n",
       "      <th>21036</th>\n",
       "      <td>3</td>\n",
       "      <td>0</td>\n",
       "      <td>0</td>\n",
       "      <td>0</td>\n",
       "      <td>0</td>\n",
       "      <td>0</td>\n",
       "      <td>0</td>\n",
       "      <td>0</td>\n",
       "      <td>0</td>\n",
       "      <td>0</td>\n",
       "      <td>...</td>\n",
       "      <td>0</td>\n",
       "      <td>0</td>\n",
       "      <td>0</td>\n",
       "      <td>0</td>\n",
       "      <td>0</td>\n",
       "      <td>0</td>\n",
       "      <td>0</td>\n",
       "      <td>0</td>\n",
       "      <td>0</td>\n",
       "      <td>0</td>\n",
       "    </tr>\n",
       "    <tr>\n",
       "      <th>1219</th>\n",
       "      <td>4</td>\n",
       "      <td>0</td>\n",
       "      <td>0</td>\n",
       "      <td>0</td>\n",
       "      <td>0</td>\n",
       "      <td>0</td>\n",
       "      <td>0</td>\n",
       "      <td>0</td>\n",
       "      <td>0</td>\n",
       "      <td>0</td>\n",
       "      <td>...</td>\n",
       "      <td>0</td>\n",
       "      <td>0</td>\n",
       "      <td>0</td>\n",
       "      <td>0</td>\n",
       "      <td>0</td>\n",
       "      <td>0</td>\n",
       "      <td>0</td>\n",
       "      <td>0</td>\n",
       "      <td>0</td>\n",
       "      <td>0</td>\n",
       "    </tr>\n",
       "    <tr>\n",
       "      <th>5948</th>\n",
       "      <td>7</td>\n",
       "      <td>0</td>\n",
       "      <td>0</td>\n",
       "      <td>0</td>\n",
       "      <td>0</td>\n",
       "      <td>0</td>\n",
       "      <td>0</td>\n",
       "      <td>0</td>\n",
       "      <td>0</td>\n",
       "      <td>0</td>\n",
       "      <td>...</td>\n",
       "      <td>0</td>\n",
       "      <td>0</td>\n",
       "      <td>0</td>\n",
       "      <td>0</td>\n",
       "      <td>0</td>\n",
       "      <td>0</td>\n",
       "      <td>0</td>\n",
       "      <td>0</td>\n",
       "      <td>0</td>\n",
       "      <td>0</td>\n",
       "    </tr>\n",
       "    <tr>\n",
       "      <th>28744</th>\n",
       "      <td>6</td>\n",
       "      <td>0</td>\n",
       "      <td>0</td>\n",
       "      <td>0</td>\n",
       "      <td>0</td>\n",
       "      <td>0</td>\n",
       "      <td>0</td>\n",
       "      <td>0</td>\n",
       "      <td>0</td>\n",
       "      <td>0</td>\n",
       "      <td>...</td>\n",
       "      <td>0</td>\n",
       "      <td>0</td>\n",
       "      <td>0</td>\n",
       "      <td>0</td>\n",
       "      <td>0</td>\n",
       "      <td>0</td>\n",
       "      <td>0</td>\n",
       "      <td>0</td>\n",
       "      <td>0</td>\n",
       "      <td>0</td>\n",
       "    </tr>\n",
       "  </tbody>\n",
       "</table>\n",
       "<p>5 rows × 785 columns</p>\n",
       "</div>"
      ],
      "text/plain": [
       "       label  pixel0  pixel1  pixel2  pixel3  pixel4  pixel5  pixel6  pixel7  \\\n",
       "37920      5       0       0       0       0       0       0       0       0   \n",
       "21036      3       0       0       0       0       0       0       0       0   \n",
       "1219       4       0       0       0       0       0       0       0       0   \n",
       "5948       7       0       0       0       0       0       0       0       0   \n",
       "28744      6       0       0       0       0       0       0       0       0   \n",
       "\n",
       "       pixel8  ...  pixel774  pixel775  pixel776  pixel777  pixel778  \\\n",
       "37920       0  ...         0         0         0         0         0   \n",
       "21036       0  ...         0         0         0         0         0   \n",
       "1219        0  ...         0         0         0         0         0   \n",
       "5948        0  ...         0         0         0         0         0   \n",
       "28744       0  ...         0         0         0         0         0   \n",
       "\n",
       "       pixel779  pixel780  pixel781  pixel782  pixel783  \n",
       "37920         0         0         0         0         0  \n",
       "21036         0         0         0         0         0  \n",
       "1219          0         0         0         0         0  \n",
       "5948          0         0         0         0         0  \n",
       "28744         0         0         0         0         0  \n",
       "\n",
       "[5 rows x 785 columns]"
      ]
     },
     "execution_count": 3,
     "metadata": {},
     "output_type": "execute_result"
    }
   ],
   "source": [
    "data.sample(5)"
   ]
  },
  {
   "cell_type": "code",
   "execution_count": 4,
   "id": "9d1c29af-fa28-4ecb-ad06-56b08a08beb6",
   "metadata": {},
   "outputs": [
    {
     "name": "stdout",
     "output_type": "stream",
     "text": [
      "label    7\n",
      "Name: 33832, dtype: int64\n"
     ]
    },
    {
     "data": {
      "text/plain": [
       "<matplotlib.image.AxesImage at 0x7e9309b86750>"
      ]
     },
     "execution_count": 4,
     "metadata": {},
     "output_type": "execute_result"
    },
    {
     "data": {
      "image/png": "[encoded data removed]",
      "text/plain": [
       "<Figure size 640x480 with 1 Axes>"
      ]
     },
     "metadata": {},
     "output_type": "display_data"
    }
   ],
   "source": [
    "num=np.array(data.iloc[33832,1:]).reshape(28,28)\n",
    "print(data.iloc[33832,0:1])\n",
    "plt.imshow(num)"
   ]
  },
  {
   "cell_type": "markdown",
   "id": "360743c0-579d-48da-a9ad-6bf7a597d4b8",
   "metadata": {},
   "source": [
    "## Splitting data for testing and training."
   ]
  },
  {
   "cell_type": "code",
   "execution_count": 6,
   "id": "effc04cb-9e1c-4bc9-92eb-fe4edfcd3e44",
   "metadata": {},
   "outputs": [],
   "source": [
    "x = data.iloc[:,1:]\n",
    "y = data.iloc[:,0]\n",
    "\n",
    "x_train, x_test, y_train, y_test = train_test_split(x, y, test_size=0.2, random_state=37)"
   ]
  },
  {
   "cell_type": "code",
   "execution_count": 7,
   "id": "0fa72227-4d49-4b93-b3e7-53a4be900636",
   "metadata": {},
   "outputs": [
    {
     "data": {
      "text/plain": [
       "(33600, 784)"
      ]
     },
     "execution_count": 7,
     "metadata": {},
     "output_type": "execute_result"
    }
   ],
   "source": [
    "x_train.shape"
   ]
  },
  {
   "cell_type": "code",
   "execution_count": 8,
   "id": "7379792c-a36c-475f-b977-edaf49beaf63",
   "metadata": {},
   "outputs": [
    {
     "data": {
      "text/plain": [
       "(33600,)"
      ]
     },
     "execution_count": 8,
     "metadata": {},
     "output_type": "execute_result"
    }
   ],
   "source": [
    "y_train.shape"
   ]
  },
  {
   "cell_type": "markdown",
   "id": "96579c50-a97f-4980-9195-0704e7afcf49",
   "metadata": {},
   "source": [
    "### Calculating Accuracy"
   ]
  },
  {
   "cell_type": "code",
   "execution_count": 10,
   "id": "479c05aa-f115-4e4b-ad82-b8c57c07cb47",
   "metadata": {},
   "outputs": [
    {
     "data": {
      "text/plain": [
       "0.9676190476190476"
      ]
     },
     "execution_count": 10,
     "metadata": {},
     "output_type": "execute_result"
    }
   ],
   "source": [
    "knn = KNeighborsClassifier()\n",
    "knn.fit(x_train,y_train)\n",
    "y_pred = knn.predict(x_test)\n",
    "acc1 = accuracy_score(y_test, y_pred)\n",
    "acc1"
   ]
  },
  {
   "cell_type": "code",
   "execution_count": null,
   "id": "3ef8f6f9-a8bb-4466-850e-95b7cde04f50",
   "metadata": {},
   "outputs": [],
   "source": []
  },
  {
   "cell_type": "code",
   "execution_count": null,
   "id": "812f3531-5f7d-41d9-a0d5-f7682f16bd0c",
   "metadata": {},
   "outputs": [],
   "source": []
  },
  {
   "cell_type": "markdown",
   "id": "b1c9bb7c-3208-4ee9-9105-640de9baa433",
   "metadata": {},
   "source": [
    "#  PCA"
   ]
  },
  {
   "cell_type": "code",
   "execution_count": 12,
   "id": "c9245348-20d1-4693-9ee8-6ffb8aac81b8",
   "metadata": {},
   "outputs": [],
   "source": [
    "scaler = StandardScaler()"
   ]
  },
  {
   "cell_type": "code",
   "execution_count": 13,
   "id": "540fef93-9682-4367-99b5-e960fb1d2a41",
   "metadata": {},
   "outputs": [],
   "source": [
    "x_train = scaler.fit_transform(x_train)\n",
    "x_test = scaler.transform(x_test)"
   ]
  },
  {
   "cell_type": "code",
   "execution_count": 14,
   "id": "59751339-a04d-4b96-8def-f68dd573a43a",
   "metadata": {},
   "outputs": [],
   "source": [
    "pca = PCA(n_components=100)  #taking 100 principal components"
   ]
  },
  {
   "cell_type": "code",
   "execution_count": 15,
   "id": "90eb1fca-cfff-4a32-96cd-6c07e0bb8f7e",
   "metadata": {},
   "outputs": [],
   "source": [
    "x_train_trf = pca.fit_transform(x_train)\n",
    "x_test_trf = pca.transform(x_test)"
   ]
  },
  {
   "cell_type": "code",
   "execution_count": 16,
   "id": "1970336b-4127-47d2-92c9-95f1ebf32e32",
   "metadata": {},
   "outputs": [
    {
     "name": "stdout",
     "output_type": "stream",
     "text": [
      "(33600, 784)\n",
      "(33600, 100)\n",
      "(33600,)\n"
     ]
    }
   ],
   "source": [
    "print(x_train.shape)\n",
    "print(x_train_trf.shape)\n",
    "print(y_train.shape)"
   ]
  },
  {
   "cell_type": "code",
   "execution_count": 17,
   "id": "fe43fdc8-2786-4360-a5c9-dc06d9259748",
   "metadata": {},
   "outputs": [
    {
     "data": {
      "text/plain": [
       "0.9520238095238095"
      ]
     },
     "execution_count": 17,
     "metadata": {},
     "output_type": "execute_result"
    }
   ],
   "source": [
    "knn = KNeighborsClassifier()\n",
    "knn.fit(x_train_trf,y_train)\n",
    "y_pred = knn.predict(x_test_trf)\n",
    "acc2 = accuracy_score(y_test, y_pred)\n",
    "acc2"
   ]
  },
  {
   "cell_type": "code",
   "execution_count": 18,
   "id": "44e567ed-3fa9-4b22-bbc9-d29c2d7f0416",
   "metadata": {},
   "outputs": [
    {
     "data": {
      "text/plain": [
       "'the below function can be used to check accuracy score with i no of principal components 1<=i<=784'"
      ]
     },
     "execution_count": 18,
     "metadata": {},
     "output_type": "execute_result"
    }
   ],
   "source": [
    "'''the below function can be used to check accuracy score with i no of principal components 1<=i<=784'''\n",
    "# max_acc=0;\n",
    "# corr_ind=0;\n",
    "# for i in range(1,785):\n",
    "#     pca=PCA(n_components=i)\n",
    "#     x_train_trf = pca.fit_transform(x_train)\n",
    "#     x_test_trf = pca.transform(x_test)\n",
    "#     knn=KNeighborsClassifier()\n",
    "#     knn.fit(x_train_trf,y_train)\n",
    "#     y_pred=knn.predict(x_test_trf)\n",
    "#     acc=accuracy_score(y_test,y_pred);\n",
    "#     print(corr_ind, max_acc)"
   ]
  },
  {
   "cell_type": "markdown",
   "id": "125cb24b-e881-41ba-842c-f041f23c399f",
   "metadata": {},
   "source": [
    "## Reducing dimensionality to 3"
   ]
  },
  {
   "cell_type": "markdown",
   "id": "e4436955-98a4-4993-bb38-421663bc65cf",
   "metadata": {},
   "source": [
    "### PC=3 that is 3D data"
   ]
  },
  {
   "cell_type": "code",
   "execution_count": 21,
   "id": "7c0cb088-58cf-49df-9148-b7aa463765c8",
   "metadata": {},
   "outputs": [
    {
     "data": {
      "text/plain": [
       "array([[-3.34585778,  4.68836534, -6.50953449],\n",
       "       [-0.16484505, -1.91765734,  2.42722075],\n",
       "       [-3.82014555, -5.5844718 ,  1.91679608],\n",
       "       ...,\n",
       "       [-8.36239894, -0.73609867,  1.88619228],\n",
       "       [ 1.44837143,  3.75980899, -5.74287846],\n",
       "       [-2.90524468,  2.66692893,  1.96474401]])"
      ]
     },
     "execution_count": 21,
     "metadata": {},
     "output_type": "execute_result"
    }
   ],
   "source": [
    "pca=PCA(n_components=3)\n",
    "x_train_trf = pca.fit_transform(x_train)\n",
    "x_test_trf = pca.transform(x_test)\n",
    "x_train_trf"
   ]
  },
  {
   "cell_type": "code",
   "execution_count": 22,
   "id": "336ff779-0a71-4180-8226-23f73434b84d",
   "metadata": {},
   "outputs": [
    {
     "data": {
      "text/plain": [
       "array([40.78440062, 29.16890094, 26.74804783])"
      ]
     },
     "execution_count": 22,
     "metadata": {},
     "output_type": "execute_result"
    }
   ],
   "source": [
    "pca.explained_variance_   #eigen values (3 highest in all 784)"
   ]
  },
  {
   "cell_type": "code",
   "execution_count": 23,
   "id": "dad3ebfa-d852-4619-acca-ba284aac300d",
   "metadata": {},
   "outputs": [
    {
     "data": {
      "text/plain": [
       "(3, 784)"
      ]
     },
     "execution_count": 23,
     "metadata": {},
     "output_type": "execute_result"
    }
   ],
   "source": [
    "pca.components_.shape    #(eigen vectors each having 784 componexts) i.e. 784 Dimensional vectors"
   ]
  },
  {
   "cell_type": "markdown",
   "id": "5e5a693b-267e-4a3b-b9b2-be1a824f692a",
   "metadata": {},
   "source": [
    "## Finding optimum number of principal componenet "
   ]
  },
  {
   "cell_type": "code",
   "execution_count": 25,
   "id": "fc26e786-9ab7-4a07-9290-c5c0712a175a",
   "metadata": {},
   "outputs": [
    {
     "data": {
      "text/plain": [
       "array([0.05776655, 0.04131449, 0.03788563])"
      ]
     },
     "execution_count": 25,
     "metadata": {},
     "output_type": "execute_result"
    }
   ],
   "source": [
    "pca.explained_variance_ratio_"
   ]
  },
  {
   "cell_type": "code",
   "execution_count": 26,
   "id": "49bccff2-3a19-4447-afa1-b6ce6b36732a",
   "metadata": {},
   "outputs": [
    {
     "data": {
      "text/plain": [
       "13.696667332873263"
      ]
     },
     "execution_count": 26,
     "metadata": {},
     "output_type": "execute_result"
    }
   ],
   "source": [
    "sum(pca.explained_variance_ratio_)*100   #not suffectien it should be at least 90"
   ]
  },
  {
   "cell_type": "code",
   "execution_count": 27,
   "id": "88ded54a-db62-43da-9d70-9ffee4408dd9",
   "metadata": {},
   "outputs": [],
   "source": [
    "pca=PCA(n_components=None)\n",
    "x_train_trf = pca.fit_transform(x_train)\n",
    "x_test_trf = pca.transform(x_test)"
   ]
  },
  {
   "cell_type": "code",
   "execution_count": 28,
   "id": "c25c0527-d14d-4042-b341-b65c7aec1878",
   "metadata": {},
   "outputs": [
    {
     "data": {
      "text/plain": [
       "(784, 784)"
      ]
     },
     "execution_count": 28,
     "metadata": {},
     "output_type": "execute_result"
    }
   ],
   "source": [
    "pca.components_.shape "
   ]
  },
  {
   "cell_type": "code",
   "execution_count": 29,
   "id": "75f22cbb-8b76-44ad-89e2-9ca4586f32ac",
   "metadata": {},
   "outputs": [
    {
     "data": {
      "text/plain": [
       "array([5.77665535e-02, 4.13144941e-02, 3.78856258e-02, 2.94963055e-02,\n",
       "       2.55357935e-02, 2.23555887e-02, 1.95993783e-02, 1.78429311e-02,\n",
       "       1.57310356e-02, 1.42792113e-02, 1.36934168e-02, 1.22943553e-02,\n",
       "       1.13453892e-02, 1.11674098e-02, 1.05454957e-02, 1.01442563e-02,\n",
       "       9.59113721e-03, 9.38782224e-03, 9.08328041e-03, 8.83746918e-03,\n",
       "       8.40296199e-03, 8.15893518e-03, 7.80533212e-03, 7.54593734e-03,\n",
       "       7.32369176e-03, 7.00629179e-03, 6.91512254e-03, 6.70521295e-03,\n",
       "       6.32248003e-03, 6.14880145e-03, 6.09024912e-03, 6.04535711e-03,\n",
       "       5.88490224e-03, 5.82339224e-03, 5.77745293e-03, 5.64420230e-03,\n",
       "       5.47047667e-03, 5.40157664e-03, 5.23487418e-03, 5.07019920e-03,\n",
       "       4.93860801e-03, 4.85654204e-03, 4.81920808e-03, 4.65441180e-03,\n",
       "       4.65154657e-03, 4.56597239e-03, 4.48614023e-03, 4.47649680e-03,\n",
       "       4.39525955e-03, 4.34200648e-03, 4.28490292e-03, 4.22173357e-03,\n",
       "       4.08887096e-03, 4.04871597e-03, 3.98974599e-03, 3.95357562e-03,\n",
       "       3.91506795e-03, 3.79786343e-03, 3.71661975e-03, 3.67544879e-03,\n",
       "       3.64481458e-03, 3.60058282e-03, 3.50777739e-03, 3.45373502e-03,\n",
       "       3.42530063e-03, 3.37109578e-03, 3.36187939e-03, 3.34200637e-03,\n",
       "       3.31556414e-03, 3.22568189e-03, 3.20062711e-03, 3.17447420e-03,\n",
       "       3.15544000e-03, 3.12182001e-03, 3.06163068e-03, 3.04994489e-03,\n",
       "       2.98866458e-03, 2.97558649e-03, 2.94978025e-03, 2.91614593e-03,\n",
       "       2.89479852e-03, 2.86653563e-03, 2.83134652e-03, 2.82241911e-03,\n",
       "       2.78670855e-03, 2.78400928e-03, 2.75289694e-03, 2.70815921e-03,\n",
       "       2.69999084e-03, 2.66115442e-03, 2.61415870e-03, 2.61033965e-03,\n",
       "       2.60211297e-03, 2.56673523e-03, 2.55521088e-03, 2.52623153e-03,\n",
       "       2.50160806e-03, 2.48424429e-03, 2.44712819e-03, 2.41854116e-03,\n",
       "       2.40233258e-03, 2.40165096e-03, 2.33192182e-03, 2.31602627e-03,\n",
       "       2.30353662e-03, 2.28983008e-03, 2.24299563e-03, 2.23687846e-03,\n",
       "       2.19898306e-03, 2.15242666e-03, 2.14314301e-03, 2.13454917e-03,\n",
       "       2.12063872e-03, 2.06741918e-03, 2.05136748e-03, 2.03855911e-03,\n",
       "       2.02965915e-03, 2.01017076e-03, 1.98855741e-03, 1.95702452e-03,\n",
       "       1.93170125e-03, 1.92433385e-03, 1.91350980e-03, 1.89277973e-03,\n",
       "       1.88216344e-03, 1.86802378e-03, 1.83976513e-03, 1.83735581e-03,\n",
       "       1.80882706e-03, 1.79353632e-03, 1.76809439e-03, 1.74554655e-03,\n",
       "       1.72917838e-03, 1.72168266e-03, 1.69363496e-03, 1.68232165e-03,\n",
       "       1.66284934e-03, 1.64274025e-03, 1.62576596e-03, 1.62209773e-03,\n",
       "       1.60451955e-03, 1.58211251e-03, 1.56930318e-03, 1.56628703e-03,\n",
       "       1.54766545e-03, 1.53622692e-03, 1.52456532e-03, 1.51936080e-03,\n",
       "       1.49177540e-03, 1.48799911e-03, 1.47829059e-03, 1.46948386e-03,\n",
       "       1.45986024e-03, 1.43817045e-03, 1.43002055e-03, 1.42800002e-03,\n",
       "       1.41998167e-03, 1.41803139e-03, 1.41694087e-03, 1.41428703e-03,\n",
       "       1.41213708e-03, 1.39997916e-03, 1.39085010e-03, 1.38044750e-03,\n",
       "       1.37659612e-03, 1.36587367e-03, 1.35987532e-03, 1.34356032e-03,\n",
       "       1.32707543e-03, 1.31755694e-03, 1.30971683e-03, 1.30470341e-03,\n",
       "       1.29439045e-03, 1.28695023e-03, 1.27796455e-03, 1.26893606e-03,\n",
       "       1.26432231e-03, 1.25375368e-03, 1.24355528e-03, 1.23745627e-03,\n",
       "       1.21521718e-03, 1.20321340e-03, 1.19189450e-03, 1.17893354e-03,\n",
       "       1.16914692e-03, 1.15443809e-03, 1.14438195e-03, 1.14323571e-03,\n",
       "       1.12349831e-03, 1.11306782e-03, 1.10215928e-03, 1.08592867e-03,\n",
       "       1.08297132e-03, 1.06934616e-03, 1.06439266e-03, 1.05806067e-03,\n",
       "       1.04985526e-03, 1.04405590e-03, 1.02031654e-03, 1.01886063e-03,\n",
       "       1.00477058e-03, 9.97784479e-04, 9.87879462e-04, 9.77685061e-04,\n",
       "       9.73403157e-04, 9.68637949e-04, 9.46863390e-04, 9.43380146e-04,\n",
       "       9.39427145e-04, 9.28476649e-04, 9.18940445e-04, 9.09027507e-04,\n",
       "       9.04777223e-04, 8.92253394e-04, 8.90369008e-04, 8.80670158e-04,\n",
       "       8.66836479e-04, 8.64272717e-04, 8.46411077e-04, 8.40950634e-04,\n",
       "       8.33626059e-04, 8.26420961e-04, 8.13633258e-04, 8.09227534e-04,\n",
       "       8.07463774e-04, 7.93069398e-04, 7.89727087e-04, 7.76444650e-04,\n",
       "       7.69352114e-04, 7.59696003e-04, 7.48969024e-04, 7.45082233e-04,\n",
       "       7.43585502e-04, 7.37690853e-04, 7.29575562e-04, 7.19534587e-04,\n",
       "       7.17329129e-04, 7.09928698e-04, 7.05820262e-04, 6.98402425e-04,\n",
       "       6.93229952e-04, 6.91497606e-04, 6.87993668e-04, 6.81720356e-04,\n",
       "       6.72248491e-04, 6.65482202e-04, 6.58922051e-04, 6.56377806e-04,\n",
       "       6.43172836e-04, 6.38254011e-04, 6.31040338e-04, 6.21795944e-04,\n",
       "       6.17383251e-04, 6.09561655e-04, 6.06479410e-04, 6.05598780e-04,\n",
       "       5.94594816e-04, 5.90094108e-04, 5.85240654e-04, 5.80853424e-04,\n",
       "       5.76503105e-04, 5.71548944e-04, 5.68377189e-04, 5.65202978e-04,\n",
       "       5.62135056e-04, 5.58550813e-04, 5.51722703e-04, 5.44980958e-04,\n",
       "       5.39922401e-04, 5.35123230e-04, 5.34575291e-04, 5.24803336e-04,\n",
       "       5.23119307e-04, 5.19046061e-04, 5.16645490e-04, 5.13067104e-04,\n",
       "       5.09087691e-04, 5.01492933e-04, 4.99062214e-04, 4.91772620e-04,\n",
       "       4.88928078e-04, 4.85164801e-04, 4.78578251e-04, 4.74510082e-04,\n",
       "       4.70946691e-04, 4.65369869e-04, 4.62297212e-04, 4.57956057e-04,\n",
       "       4.56306265e-04, 4.50760929e-04, 4.45229712e-04, 4.40966129e-04,\n",
       "       4.39836428e-04, 4.34707654e-04, 4.33642767e-04, 4.28249718e-04,\n",
       "       4.21865620e-04, 4.18063019e-04, 4.14702706e-04, 4.10481817e-04,\n",
       "       4.04721288e-04, 4.03820646e-04, 4.02444230e-04, 3.96640348e-04,\n",
       "       3.94365017e-04, 3.91739728e-04, 3.85371983e-04, 3.84212785e-04,\n",
       "       3.82304133e-04, 3.78240510e-04, 3.77943003e-04, 3.72884284e-04,\n",
       "       3.68212579e-04, 3.65298973e-04, 3.64170441e-04, 3.62655674e-04,\n",
       "       3.59349601e-04, 3.54865180e-04, 3.53284743e-04, 3.51469975e-04,\n",
       "       3.47190301e-04, 3.42015174e-04, 3.39643980e-04, 3.38006766e-04,\n",
       "       3.37258783e-04, 3.34276913e-04, 3.31521950e-04, 3.27686900e-04,\n",
       "       3.24869526e-04, 3.22748136e-04, 3.20436321e-04, 3.16346755e-04,\n",
       "       3.15196112e-04, 3.12989330e-04, 3.12511481e-04, 3.06629842e-04,\n",
       "       3.04615275e-04, 3.02580782e-04, 3.00320810e-04, 2.96997684e-04,\n",
       "       2.95487898e-04, 2.94320233e-04, 2.90680357e-04, 2.88093760e-04,\n",
       "       2.86953798e-04, 2.84729887e-04, 2.82968797e-04, 2.82322842e-04,\n",
       "       2.81147862e-04, 2.77423957e-04, 2.77190542e-04, 2.76060363e-04,\n",
       "       2.74284808e-04, 2.71403996e-04, 2.68015262e-04, 2.66980911e-04,\n",
       "       2.63495107e-04, 2.60763061e-04, 2.58550594e-04, 2.57666892e-04,\n",
       "       2.56297291e-04, 2.52474828e-04, 2.50546121e-04, 2.48891837e-04,\n",
       "       2.47973028e-04, 2.46539635e-04, 2.45395340e-04, 2.43023140e-04,\n",
       "       2.42182472e-04, 2.40150634e-04, 2.37222086e-04, 2.35289517e-04,\n",
       "       2.32789748e-04, 2.32339065e-04, 2.30027890e-04, 2.29409822e-04,\n",
       "       2.27610318e-04, 2.27315443e-04, 2.24715878e-04, 2.22816796e-04,\n",
       "       2.21971203e-04, 2.19944985e-04, 2.19653975e-04, 2.18779307e-04,\n",
       "       2.16523919e-04, 2.15604987e-04, 2.14532790e-04, 2.12996372e-04,\n",
       "       2.11701303e-04, 2.10405605e-04, 2.08884159e-04, 2.06122588e-04,\n",
       "       2.05853778e-04, 2.04779361e-04, 2.03779750e-04, 2.01570176e-04,\n",
       "       2.00305295e-04, 2.00035175e-04, 1.98152191e-04, 1.97828356e-04,\n",
       "       1.96591953e-04, 1.94355377e-04, 1.93802563e-04, 1.91588922e-04,\n",
       "       1.90822620e-04, 1.90079694e-04, 1.89114809e-04, 1.87577000e-04,\n",
       "       1.85900045e-04, 1.83670088e-04, 1.82329267e-04, 1.81630586e-04,\n",
       "       1.79619012e-04, 1.79107584e-04, 1.78148745e-04, 1.76311348e-04,\n",
       "       1.75973503e-04, 1.74340153e-04, 1.73118621e-04, 1.71842734e-04,\n",
       "       1.70858903e-04, 1.70263032e-04, 1.69537048e-04, 1.68886025e-04,\n",
       "       1.67023590e-04, 1.66192589e-04, 1.66036731e-04, 1.65526465e-04,\n",
       "       1.64274783e-04, 1.63281195e-04, 1.62682572e-04, 1.62063153e-04,\n",
       "       1.60508217e-04, 1.60014459e-04, 1.57862895e-04, 1.56501229e-04,\n",
       "       1.55624662e-04, 1.54580172e-04, 1.53923828e-04, 1.52292602e-04,\n",
       "       1.52109633e-04, 1.50946545e-04, 1.49771375e-04, 1.48922013e-04,\n",
       "       1.48391418e-04, 1.47756164e-04, 1.47669783e-04, 1.46634071e-04,\n",
       "       1.45059087e-04, 1.44238239e-04, 1.43888593e-04, 1.42837074e-04,\n",
       "       1.42328035e-04, 1.41885802e-04, 1.40752832e-04, 1.39996049e-04,\n",
       "       1.39750306e-04, 1.38843218e-04, 1.38212471e-04, 1.36731437e-04,\n",
       "       1.36413785e-04, 1.35643467e-04, 1.34900369e-04, 1.34270361e-04,\n",
       "       1.33684521e-04, 1.33498109e-04, 1.32498854e-04, 1.31932682e-04,\n",
       "       1.30551979e-04, 1.30216236e-04, 1.29573544e-04, 1.28727957e-04,\n",
       "       1.27895058e-04, 1.26570241e-04, 1.26301597e-04, 1.25289376e-04,\n",
       "       1.24808906e-04, 1.24410495e-04, 1.23652550e-04, 1.23048644e-04,\n",
       "       1.22527000e-04, 1.21777676e-04, 1.21359420e-04, 1.20717294e-04,\n",
       "       1.19806403e-04, 1.18704842e-04, 1.18106089e-04, 1.17453880e-04,\n",
       "       1.16562802e-04, 1.15999109e-04, 1.14630005e-04, 1.14291751e-04,\n",
       "       1.13963284e-04, 1.12777266e-04, 1.12259929e-04, 1.11808087e-04,\n",
       "       1.10895068e-04, 1.10017054e-04, 1.09195138e-04, 1.08665325e-04,\n",
       "       1.08563451e-04, 1.07904152e-04, 1.07756040e-04, 1.07532880e-04,\n",
       "       1.06916216e-04, 1.06411554e-04, 1.06086746e-04, 1.04898669e-04,\n",
       "       1.04672845e-04, 1.03718422e-04, 1.03227668e-04, 1.02827156e-04,\n",
       "       1.02124640e-04, 1.01353384e-04, 1.00779894e-04, 1.00466222e-04,\n",
       "       1.00185204e-04, 9.99918671e-05, 9.92711801e-05, 9.82109482e-05,\n",
       "       9.76391671e-05, 9.75410784e-05, 9.67842604e-05, 9.64432463e-05,\n",
       "       9.63637623e-05, 9.59437457e-05, 9.52857734e-05, 9.44535131e-05,\n",
       "       9.38617578e-05, 9.35374539e-05, 9.29040364e-05, 9.23404463e-05,\n",
       "       9.17134432e-05, 9.10782678e-05, 9.05739336e-05, 9.02590131e-05,\n",
       "       8.95674176e-05, 8.87108689e-05, 8.86900183e-05, 8.80152243e-05,\n",
       "       8.78085454e-05, 8.68462362e-05, 8.61945924e-05, 8.59080314e-05,\n",
       "       8.54899751e-05, 8.52217622e-05, 8.49897191e-05, 8.41788839e-05,\n",
       "       8.37845231e-05, 8.33791584e-05, 8.23003969e-05, 8.21461277e-05,\n",
       "       8.10289910e-05, 8.01580125e-05, 7.99577302e-05, 7.97652081e-05,\n",
       "       7.89478784e-05, 7.86086459e-05, 7.82288806e-05, 7.78006757e-05,\n",
       "       7.71918349e-05, 7.69759617e-05, 7.66681714e-05, 7.61816513e-05,\n",
       "       7.57619968e-05, 7.55132721e-05, 7.50526830e-05, 7.47535265e-05,\n",
       "       7.40992907e-05, 7.35898016e-05, 7.33434309e-05, 7.25106617e-05,\n",
       "       7.22512799e-05, 7.18232380e-05, 7.17105271e-05, 7.10264112e-05,\n",
       "       7.06291726e-05, 7.04658108e-05, 6.99414407e-05, 6.94626074e-05,\n",
       "       6.89034755e-05, 6.84274004e-05, 6.82792055e-05, 6.79127647e-05,\n",
       "       6.76201492e-05, 6.74337610e-05, 6.72457912e-05, 6.64478131e-05,\n",
       "       6.62244435e-05, 6.57528030e-05, 6.52596700e-05, 6.47621507e-05,\n",
       "       6.45590901e-05, 6.41943024e-05, 6.38495614e-05, 6.35890006e-05,\n",
       "       6.33555466e-05, 6.31280323e-05, 6.21253054e-05, 6.20608295e-05,\n",
       "       6.16745700e-05, 6.14423596e-05, 6.11620460e-05, 6.06475260e-05,\n",
       "       6.03496577e-05, 6.02327793e-05, 5.96033528e-05, 5.93462918e-05,\n",
       "       5.92462855e-05, 5.87891653e-05, 5.80637872e-05, 5.75511776e-05,\n",
       "       5.68255419e-05, 5.67567458e-05, 5.66655255e-05, 5.63639450e-05,\n",
       "       5.60594617e-05, 5.57364006e-05, 5.54808665e-05, 5.49536653e-05,\n",
       "       5.45171583e-05, 5.42605561e-05, 5.41606698e-05, 5.37371868e-05,\n",
       "       5.33872465e-05, 5.32502211e-05, 5.26572840e-05, 5.21513497e-05,\n",
       "       5.18595926e-05, 5.16946862e-05, 5.14220515e-05, 5.12107574e-05,\n",
       "       5.10074498e-05, 5.01478194e-05, 5.00162670e-05, 4.94399027e-05,\n",
       "       4.91881656e-05, 4.89331421e-05, 4.88410730e-05, 4.83406521e-05,\n",
       "       4.79192559e-05, 4.76893876e-05, 4.71584571e-05, 4.66444213e-05,\n",
       "       4.62755859e-05, 4.60334707e-05, 4.57635691e-05, 4.54356560e-05,\n",
       "       4.49160788e-05, 4.48512173e-05, 4.44421062e-05, 4.40545220e-05,\n",
       "       4.39606748e-05, 4.34401510e-05, 4.30034720e-05, 4.28138330e-05,\n",
       "       4.27655518e-05, 4.19947031e-05, 4.15395928e-05, 4.12751566e-05,\n",
       "       4.10562057e-05, 4.05825003e-05, 4.01177255e-05, 3.99505403e-05,\n",
       "       3.92102662e-05, 3.90014670e-05, 3.87665676e-05, 3.83192954e-05,\n",
       "       3.79531438e-05, 3.76292506e-05, 3.74218590e-05, 3.73492113e-05,\n",
       "       3.67846091e-05, 3.64036255e-05, 3.58637028e-05, 3.57416312e-05,\n",
       "       3.56293567e-05, 3.49436891e-05, 3.43851379e-05, 3.40349583e-05,\n",
       "       3.37404577e-05, 3.32511749e-05, 3.28416325e-05, 3.27146744e-05,\n",
       "       3.24696282e-05, 3.20504338e-05, 3.08973196e-05, 3.01711928e-05,\n",
       "       2.95745009e-05, 2.92462545e-05, 2.90826145e-05, 2.82868258e-05,\n",
       "       2.59485162e-05, 2.52249437e-05, 1.78652607e-05, 1.45542378e-05,\n",
       "       3.32539643e-06, 2.62310310e-06, 2.49565766e-06, 1.70844553e-06,\n",
       "       1.60618119e-32, 3.46177693e-33, 3.30179697e-33, 2.86401042e-33,\n",
       "       2.60551147e-33, 1.93343173e-33, 1.62031141e-33, 1.58766340e-33,\n",
       "       1.52346493e-33, 1.36600130e-33, 1.25853564e-33, 1.09873950e-33,\n",
       "       1.06087061e-33, 9.21540312e-34, 9.05556338e-34, 7.66855238e-34,\n",
       "       7.31667674e-34, 6.59428621e-34, 6.17960131e-34, 5.54994527e-34,\n",
       "       5.13801072e-34, 3.87640246e-34, 3.78011177e-34, 2.82822144e-34,\n",
       "       2.41191660e-34, 2.33714787e-34, 2.30296422e-34, 2.21754513e-34,\n",
       "       2.07011101e-34, 1.85022126e-34, 1.85022126e-34, 1.85022126e-34,\n",
       "       1.85022126e-34, 1.85022126e-34, 1.85022126e-34, 1.85022126e-34,\n",
       "       1.85022126e-34, 1.85022126e-34, 1.85022126e-34, 1.85022126e-34,\n",
       "       1.85022126e-34, 1.85022126e-34, 1.85022126e-34, 1.85022126e-34,\n",
       "       1.85022126e-34, 1.85022126e-34, 1.85022126e-34, 1.85022126e-34,\n",
       "       1.85022126e-34, 1.85022126e-34, 1.85022126e-34, 1.85022126e-34,\n",
       "       1.85022126e-34, 1.85022126e-34, 1.85022126e-34, 1.85022126e-34,\n",
       "       1.85022126e-34, 1.85022126e-34, 1.85022126e-34, 1.85022126e-34,\n",
       "       1.85022126e-34, 1.85022126e-34, 1.85022126e-34, 1.85022126e-34,\n",
       "       1.85022126e-34, 1.85022126e-34, 1.85022126e-34, 1.85022126e-34,\n",
       "       1.85022126e-34, 1.85022126e-34, 1.85022126e-34, 1.85022126e-34,\n",
       "       1.85022126e-34, 1.85022126e-34, 1.85022126e-34, 1.85022126e-34,\n",
       "       1.52733214e-34, 1.49593806e-34, 8.83889790e-35, 7.94866755e-35,\n",
       "       7.55492418e-35, 3.08363930e-35, 7.88287645e-36, 2.62951749e-36])"
      ]
     },
     "execution_count": 29,
     "metadata": {},
     "output_type": "execute_result"
    }
   ],
   "source": [
    "pca.explained_variance_ratio_"
   ]
  },
  {
   "cell_type": "code",
   "execution_count": 30,
   "id": "323c097d-903a-4e2c-b2e0-3815d559224f",
   "metadata": {},
   "outputs": [
    {
     "data": {
      "text/plain": [
       "array([0.05776655, 0.09908105, 0.13696667, 0.16646298, 0.19199877,\n",
       "       0.21435436, 0.23395374, 0.25179667, 0.26752771, 0.28180692,\n",
       "       0.29550033, 0.30779469, 0.31914008, 0.33030749, 0.34085298,\n",
       "       0.35099724, 0.36058838, 0.3699762 , 0.37905948, 0.38789695,\n",
       "       0.39629991, 0.40445885, 0.41226418, 0.41981012, 0.42713381,\n",
       "       0.4341401 , 0.44105522, 0.44776044, 0.45408292, 0.46023172,\n",
       "       0.46632197, 0.47236732, 0.47825223, 0.48407562, 0.48985307,\n",
       "       0.49549727, 0.50096775, 0.50636933, 0.5116042 , 0.5166744 ,\n",
       "       0.52161301, 0.52646955, 0.53128876, 0.53594317, 0.54059472,\n",
       "       0.54516069, 0.54964683, 0.55412333, 0.55851858, 0.56286059,\n",
       "       0.56714549, 0.57136723, 0.5754561 , 0.57950481, 0.58349456,\n",
       "       0.58744814, 0.5913632 , 0.59516107, 0.59887769, 0.60255314,\n",
       "       0.60619795, 0.60979853, 0.61330631, 0.61676005, 0.62018535,\n",
       "       0.62355644, 0.62691832, 0.63026033, 0.63357589, 0.63680157,\n",
       "       0.6400022 , 0.64317668, 0.64633212, 0.64945394, 0.65251557,\n",
       "       0.65556551, 0.65855418, 0.66152976, 0.66447954, 0.66739569,\n",
       "       0.67029049, 0.67315702, 0.67598837, 0.67881079, 0.6815975 ,\n",
       "       0.68438151, 0.6871344 , 0.68984256, 0.69254255, 0.69520371,\n",
       "       0.69781787, 0.70042821, 0.70303032, 0.70559705, 0.70815226,\n",
       "       0.7106785 , 0.7131801 , 0.71566435, 0.71811148, 0.72053002,\n",
       "       0.72293235, 0.725334  , 0.72766592, 0.72998195, 0.73228549,\n",
       "       0.73457532, 0.73681831, 0.73905519, 0.74125417, 0.7434066 ,\n",
       "       0.74554974, 0.74768429, 0.74980493, 0.75187235, 0.75392372,\n",
       "       0.75596228, 0.75799194, 0.76000211, 0.76199066, 0.76394769,\n",
       "       0.76587939, 0.76780372, 0.76971723, 0.77161001, 0.77349218,\n",
       "       0.7753602 , 0.77719997, 0.77903732, 0.78084615, 0.78263968,\n",
       "       0.78440778, 0.78615333, 0.7878825 , 0.78960419, 0.79129782,\n",
       "       0.79298014, 0.79464299, 0.79628573, 0.7979115 , 0.7995336 ,\n",
       "       0.80113812, 0.80272023, 0.80428953, 0.80585582, 0.80740348,\n",
       "       0.80893971, 0.81046428, 0.81198364, 0.81347541, 0.81496341,\n",
       "       0.8164417 , 0.81791119, 0.81937105, 0.82080922, 0.82223924,\n",
       "       0.82366724, 0.82508722, 0.82650525, 0.82792219, 0.82933648,\n",
       "       0.83074862, 0.83214859, 0.83353944, 0.83491989, 0.83629649,\n",
       "       0.83766236, 0.83902224, 0.8403658 , 0.84169287, 0.84301043,\n",
       "       0.84432015, 0.84562485, 0.84691924, 0.84820619, 0.84948416,\n",
       "       0.85075309, 0.85201741, 0.85327117, 0.85451472, 0.85575218,\n",
       "       0.8569674 , 0.85817061, 0.8593625 , 0.86054144, 0.86171058,\n",
       "       0.86286502, 0.8640094 , 0.86515264, 0.86627614, 0.86738921,\n",
       "       0.86849137, 0.86957729, 0.87066027, 0.87172961, 0.872794  ,\n",
       "       0.87385207, 0.87490192, 0.87594598, 0.87696629, 0.87798515,\n",
       "       0.87898992, 0.87998771, 0.88097559, 0.88195327, 0.88292668,\n",
       "       0.88389531, 0.88484218, 0.88578556, 0.88672499, 0.88765346,\n",
       "       0.8885724 , 0.88948143, 0.89038621, 0.89127846, 0.89216883,\n",
       "       0.8930495 , 0.89391634, 0.89478061, 0.89562702, 0.89646797,\n",
       "       0.8973016 , 0.89812802, 0.89894165, 0.89975088, 0.90055834,\n",
       "       0.90135141, 0.90214114, 0.90291758, 0.90368694, 0.90444663,\n",
       "       0.9051956 , 0.90594068, 0.90668427, 0.90742196, 0.90815153,\n",
       "       0.90887107, 0.9095884 , 0.91029833, 0.91100415, 0.91170255,\n",
       "       0.91239578, 0.91308728, 0.91377527, 0.91445699, 0.91512924,\n",
       "       0.91579472, 0.91645364, 0.91711002, 0.91775319, 0.91839145,\n",
       "       0.91902249, 0.91964428, 0.92026167, 0.92087123, 0.92147771,\n",
       "       0.92208331, 0.9226779 , 0.923268  , 0.92385324, 0.92443409,\n",
       "       0.92501059, 0.92558214, 0.92615052, 0.92671572, 0.92727786,\n",
       "       0.92783641, 0.92838813, 0.92893311, 0.92947304, 0.93000816,\n",
       "       0.93054273, 0.93106754, 0.93159066, 0.9321097 , 0.93262635,\n",
       "       0.93313941, 0.9336485 , 0.93415   , 0.93464906, 0.93514083,\n",
       "       0.93562976, 0.93611492, 0.9365935 , 0.93706801, 0.93753896,\n",
       "       0.93800433, 0.93846663, 0.93892458, 0.93938089, 0.93983165,\n",
       "       0.94027688, 0.94071784, 0.94115768, 0.94159239, 0.94202603,\n",
       "       0.94245428, 0.94287615, 0.94329421, 0.94370891, 0.94411939,\n",
       "       0.94452412, 0.94492794, 0.94533038, 0.94572702, 0.94612139,\n",
       "       0.94651313, 0.9468985 , 0.94728271, 0.94766501, 0.94804325,\n",
       "       0.9484212 , 0.94879408, 0.94916229, 0.94952759, 0.94989176,\n",
       "       0.95025442, 0.95061377, 0.95096863, 0.95132192, 0.95167339,\n",
       "       0.95202058, 0.95236259, 0.95270224, 0.95304025, 0.9533775 ,\n",
       "       0.95371178, 0.9540433 , 0.95437099, 0.95469586, 0.95501861,\n",
       "       0.95533904, 0.95565539, 0.95597059, 0.95628358, 0.95659609,\n",
       "       0.95690272, 0.95720733, 0.95750991, 0.95781023, 0.95810723,\n",
       "       0.95840272, 0.95869704, 0.95898772, 0.95927581, 0.95956277,\n",
       "       0.9598475 , 0.96013047, 0.96041279, 0.96069394, 0.96097136,\n",
       "       0.96124855, 0.96152461, 0.9617989 , 0.9620703 , 0.96233832,\n",
       "       0.9626053 , 0.96286879, 0.96312956, 0.96338811, 0.96364577,\n",
       "       0.96390207, 0.96415455, 0.96440509, 0.96465398, 0.96490196,\n",
       "       0.9651485 , 0.96539389, 0.96563691, 0.9658791 , 0.96611925,\n",
       "       0.96635647, 0.96659176, 0.96682455, 0.96705689, 0.96728692,\n",
       "       0.96751633, 0.96774394, 0.96797125, 0.96819597, 0.96841878,\n",
       "       0.96864076, 0.9688607 , 0.96908035, 0.96929913, 0.96951566,\n",
       "       0.96973126, 0.9699458 , 0.97015879, 0.97037049, 0.9705809 ,\n",
       "       0.97078978, 0.97099591, 0.97120176, 0.97140654, 0.97161032,\n",
       "       0.97181189, 0.97201219, 0.97221223, 0.97241038, 0.97260821,\n",
       "       0.9728048 , 0.97299916, 0.97319296, 0.97338455, 0.97357537,\n",
       "       0.97376545, 0.97395457, 0.97414214, 0.97432804, 0.97451171,\n",
       "       0.97469404, 0.97487567, 0.97505529, 0.9752344 , 0.97541255,\n",
       "       0.97558886, 0.97576483, 0.97593917, 0.97611229, 0.97628413,\n",
       "       0.97645499, 0.97662526, 0.97679479, 0.97696368, 0.9771307 ,\n",
       "       0.9772969 , 0.97746293, 0.97762846, 0.97779273, 0.97795601,\n",
       "       0.9781187 , 0.97828076, 0.97844127, 0.97860128, 0.97875915,\n",
       "       0.97891565, 0.97907127, 0.97922585, 0.97937978, 0.97953207,\n",
       "       0.97968418, 0.97983512, 0.9799849 , 0.98013382, 0.98028221,\n",
       "       0.98042997, 0.98057763, 0.98072427, 0.98086933, 0.98101357,\n",
       "       0.98115745, 0.98130029, 0.98144262, 0.98158451, 0.98172526,\n",
       "       0.98186525, 0.98200501, 0.98214385, 0.98228206, 0.98241879,\n",
       "       0.98255521, 0.98269085, 0.98282575, 0.98296002, 0.9830937 ,\n",
       "       0.9832272 , 0.9833597 , 0.98349163, 0.98362219, 0.9837524 ,\n",
       "       0.98388198, 0.9840107 , 0.9841386 , 0.98426517, 0.98439147,\n",
       "       0.98451676, 0.98464157, 0.98476598, 0.98488963, 0.98501268,\n",
       "       0.98513521, 0.98525699, 0.98537835, 0.98549906, 0.98561887,\n",
       "       0.98573757, 0.98585568, 0.98597313, 0.9860897 , 0.9862057 ,\n",
       "       0.98632033, 0.98643462, 0.98654858, 0.98666136, 0.98677362,\n",
       "       0.98688543, 0.98699632, 0.98710634, 0.98721553, 0.9873242 ,\n",
       "       0.98743276, 0.98754067, 0.98764842, 0.98775595, 0.98786287,\n",
       "       0.98796928, 0.98807537, 0.98818027, 0.98828494, 0.98838866,\n",
       "       0.98849189, 0.98859471, 0.98869684, 0.98879819, 0.98889897,\n",
       "       0.98899944, 0.98909962, 0.98919962, 0.98929889, 0.9893971 ,\n",
       "       0.98949474, 0.98959228, 0.98968906, 0.98978551, 0.98988187,\n",
       "       0.98997781, 0.9900731 , 0.99016755, 0.99026141, 0.99035495,\n",
       "       0.99044786, 0.9905402 , 0.99063191, 0.99072299, 0.99081356,\n",
       "       0.99090382, 0.99099339, 0.9910821 , 0.99117079, 0.9912588 ,\n",
       "       0.99134661, 0.99143346, 0.99151965, 0.99160556, 0.99169105,\n",
       "       0.99177627, 0.99186126, 0.99194544, 0.99202923, 0.99211261,\n",
       "       0.99219491, 0.99227705, 0.99235808, 0.99243824, 0.9925182 ,\n",
       "       0.99259796, 0.99267691, 0.99275552, 0.99283375, 0.99291155,\n",
       "       0.99298874, 0.99306572, 0.99314238, 0.99321857, 0.99329433,\n",
       "       0.99336984, 0.99344489, 0.99351965, 0.99359375, 0.99366734,\n",
       "       0.99374068, 0.99381319, 0.99388544, 0.99395726, 0.99402898,\n",
       "       0.9941    , 0.99417063, 0.9942411 , 0.99431104, 0.9943805 ,\n",
       "       0.9944494 , 0.99451783, 0.99458611, 0.99465402, 0.99472164,\n",
       "       0.99478908, 0.99485632, 0.99492277, 0.994989  , 0.99505475,\n",
       "       0.99512001, 0.99518477, 0.99524933, 0.99531352, 0.99537737,\n",
       "       0.99544096, 0.99550432, 0.99556745, 0.99562957, 0.99569163,\n",
       "       0.99575331, 0.99581475, 0.99587591, 0.99593656, 0.99599691,\n",
       "       0.99605714, 0.99611674, 0.99617609, 0.99623534, 0.99629413,\n",
       "       0.99635219, 0.99640974, 0.99646657, 0.99652332, 0.99657999,\n",
       "       0.99663635, 0.99669241, 0.99674815, 0.99680363, 0.99685858,\n",
       "       0.9969131 , 0.99696736, 0.99702152, 0.99707526, 0.99712865,\n",
       "       0.9971819 , 0.99723455, 0.9972867 , 0.99733856, 0.99739026,\n",
       "       0.99744168, 0.99749289, 0.9975439 , 0.99759405, 0.99764406,\n",
       "       0.9976935 , 0.99774269, 0.99779162, 0.99784047, 0.99788881,\n",
       "       0.99793673, 0.99798441, 0.99803157, 0.99807822, 0.99812449,\n",
       "       0.99817053, 0.99821629, 0.99826173, 0.99830664, 0.99835149,\n",
       "       0.99839594, 0.99843999, 0.99848395, 0.99852739, 0.99857039,\n",
       "       0.99861321, 0.99865597, 0.99869797, 0.99873951, 0.99878078,\n",
       "       0.99882184, 0.99886242, 0.99890254, 0.99894249, 0.9989817 ,\n",
       "       0.9990207 , 0.99905947, 0.99909779, 0.99913574, 0.99917337,\n",
       "       0.99921079, 0.99924814, 0.99928493, 0.99932133, 0.99935719,\n",
       "       0.99939293, 0.99942856, 0.99946351, 0.99949789, 0.99953193,\n",
       "       0.99956567, 0.99959892, 0.99963176, 0.99966448, 0.99969695,\n",
       "       0.999729  , 0.99975989, 0.99979006, 0.99981964, 0.99984888,\n",
       "       0.99987797, 0.99990625, 0.9999322 , 0.99995743, 0.99997529,\n",
       "       0.99998985, 0.99999317, 0.9999958 , 0.99999829, 1.        ,\n",
       "       1.        , 1.        , 1.        , 1.        , 1.        ,\n",
       "       1.        , 1.        , 1.        , 1.        , 1.        ,\n",
       "       1.        , 1.        , 1.        , 1.        , 1.        ,\n",
       "       1.        , 1.        , 1.        , 1.        , 1.        ,\n",
       "       1.        , 1.        , 1.        , 1.        , 1.        ,\n",
       "       1.        , 1.        , 1.        , 1.        , 1.        ,\n",
       "       1.        , 1.        , 1.        , 1.        , 1.        ,\n",
       "       1.        , 1.        , 1.        , 1.        , 1.        ,\n",
       "       1.        , 1.        , 1.        , 1.        , 1.        ,\n",
       "       1.        , 1.        , 1.        , 1.        , 1.        ,\n",
       "       1.        , 1.        , 1.        , 1.        , 1.        ,\n",
       "       1.        , 1.        , 1.        , 1.        , 1.        ,\n",
       "       1.        , 1.        , 1.        , 1.        , 1.        ,\n",
       "       1.        , 1.        , 1.        , 1.        , 1.        ,\n",
       "       1.        , 1.        , 1.        , 1.        , 1.        ,\n",
       "       1.        , 1.        , 1.        , 1.        , 1.        ,\n",
       "       1.        , 1.        , 1.        , 1.        ])"
      ]
     },
     "execution_count": 30,
     "metadata": {},
     "output_type": "execute_result"
    }
   ],
   "source": [
    "np.cumsum(pca.explained_variance_ratio_)"
   ]
  },
  {
   "cell_type": "code",
   "execution_count": 31,
   "id": "b07cf7a7-9c4f-4b78-b9e4-425e3c631282",
   "metadata": {},
   "outputs": [
    {
     "data": {
      "text/plain": [
       "[<matplotlib.lines.Line2D at 0x7e93093ae390>]"
      ]
     },
     "execution_count": 31,
     "metadata": {},
     "output_type": "execute_result"
    },
    {
     "data": {
      "image/png": "[encoded data removed]",
      "text/plain": [
       "<Figure size 640x480 with 1 Axes>"
      ]
     },
     "metadata": {},
     "output_type": "display_data"
    }
   ],
   "source": [
    "plt.plot(np.cumsum(pca.explained_variance_ratio_))"
   ]
  },
  {
   "cell_type": "markdown",
   "id": "b272abc1-9a1b-441b-bdaa-7a173a9f3630",
   "metadata": {},
   "source": [
    "### Creating function to find i for which cumulative sum is in between 90-91"
   ]
  },
  {
   "cell_type": "code",
   "execution_count": 33,
   "id": "ca058179-93d7-4bf8-854e-5babc4ba82fa",
   "metadata": {},
   "outputs": [
    {
     "name": "stdout",
     "output_type": "stream",
     "text": [
      "225 : 0.9013514115101487\n"
     ]
    }
   ],
   "source": [
    "arr= np.cumsum(pca.explained_variance_ratio_)\n",
    "low, high, ans= 0,len(arr)-1,-1\n",
    "while low<=high:\n",
    "    mid=low+(high-low)//2\n",
    "    if arr[mid]>0.90 and arr[mid]<0.905:\n",
    "       ans = mid\n",
    "       break;\n",
    "    elif(arr[mid]<0.90):\n",
    "        low=mid+1\n",
    "    else:\n",
    "        high=mid-1\n",
    "\n",
    "print(ans,\":\",arr[ans])\n",
    "    "
   ]
  },
  {
   "cell_type": "markdown",
   "id": "b4bdabd1-968a-4b7f-8f59-7454490a1285",
   "metadata": {},
   "source": [
    "### Checking accuracy after applying PCA"
   ]
  },
  {
   "cell_type": "code",
   "execution_count": 35,
   "id": "e086dbed-b34c-4208-82df-8bc097a3f9f1",
   "metadata": {},
   "outputs": [
    {
     "data": {
      "text/plain": [
       "0.9457142857142857"
      ]
     },
     "execution_count": 35,
     "metadata": {},
     "output_type": "execute_result"
    }
   ],
   "source": [
    "pca=PCA(n_components=ans+1)\n",
    "x_train_trf = pca.fit_transform(x_train)\n",
    "x_test_trf = pca.transform(x_test)\n",
    "knn = KNeighborsClassifier()\n",
    "knn.fit(x_train_trf, y_train)\n",
    "y_pred = knn.predict(x_test_trf)\n",
    "acc = accuracy_score(y_test, y_pred)\n",
    "acc"
   ]
  },
  {
   "cell_type": "code",
   "execution_count": null,
   "id": "1105ac99-33c4-43e3-a60c-51338f39cfda",
   "metadata": {},
   "outputs": [],
   "source": []
  }
 ],
 "metadata": {
  "kernelspec": {
   "display_name": "Python 3 (ipykernel)",
   "language": "python",
   "name": "python3"
  },
  "language_info": {
   "codemirror_mode": {
    "name": "ipython",
    "version": 3
   },
   "file_extension": ".py",
   "mimetype": "text/x-python",
   "name": "python",
   "nbconvert_exporter": "python",
   "pygments_lexer": "ipython3",
   "version": "3.12.4"
  }
 },
 "nbformat": 4,
 "nbformat_minor": 5
}
